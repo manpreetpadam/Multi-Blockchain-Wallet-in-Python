{
 "cells": [
  {
   "cell_type": "code",
   "execution_count": 1,
   "metadata": {},
   "outputs": [],
   "source": [
    "from wallet import *"
   ]
  },
  {
   "cell_type": "code",
   "execution_count": 2,
   "metadata": {},
   "outputs": [],
   "source": [
    "derive_wallets(ETH)\n",
    "derive_wallets(BTCTEST)\n",
    "#coins, private_keys"
   ]
  },
  {
   "cell_type": "code",
   "execution_count": 3,
   "metadata": {},
   "outputs": [],
   "source": [
    "account1=private_keys[BTCTEST][0]['account']\n",
    "account2=private_keys[BTCTEST][1]['account']"
   ]
  },
  {
   "cell_type": "code",
   "execution_count": 4,
   "metadata": {},
   "outputs": [
    {
     "data": {
      "text/plain": [
       "('mugmrZoUcSsYMkeFetgKH5XNdCzr8CpuXE', 'n2GNFSevhNYStSSk6RLzKHLewQ7GmEmyc9')"
      ]
     },
     "execution_count": 4,
     "metadata": {},
     "output_type": "execute_result"
    }
   ],
   "source": [
    "account1.address, account2.address"
   ]
  },
  {
   "cell_type": "code",
   "execution_count": 5,
   "metadata": {},
   "outputs": [],
   "source": [
    "send_tx(BTCTEST,account1,account2.address,0.0005)"
   ]
  },
  {
   "cell_type": "code",
   "execution_count": 6,
   "metadata": {},
   "outputs": [],
   "source": [
    "account1=private_keys[ETH][0]['account']\n",
    "account2=private_keys[ETH][1]['account']"
   ]
  },
  {
   "cell_type": "code",
   "execution_count": 10,
   "metadata": {},
   "outputs": [
    {
     "data": {
      "text/plain": [
       "('0xEAE0249866E529B52f0830eCAb97010E0A211Cff',\n",
       " '0xEb790beC376f72040fDA97D2DD33Df02A42d93CC')"
      ]
     },
     "execution_count": 10,
     "metadata": {},
     "output_type": "execute_result"
    }
   ],
   "source": [
    "account1.address,account2.address"
   ]
  },
  {
   "cell_type": "code",
   "execution_count": 8,
   "metadata": {},
   "outputs": [
    {
     "data": {
      "text/plain": [
       "{'eth': {0: {'privkey': '0x889e0d472874ac8fc9730dd30954679c42f68ff3f3facd1142c3c09c7ffbeca5',\n",
       "   'account': <eth_account.signers.local.LocalAccount at 0x1bc315a6a20>},\n",
       "  1: {'privkey': '0xf8b87379fa91d1a28c8cb5e412e335a1e494dbab81f40f804316bc4a0892673b',\n",
       "   'account': <eth_account.signers.local.LocalAccount at 0x1bc320ab780>},\n",
       "  2: {'privkey': '0x4108b37a8d582f6418d9e900853b43149051959a7913698d0e962289353ba262',\n",
       "   'account': <eth_account.signers.local.LocalAccount at 0x1bc320ab9b0>}},\n",
       " 'btc-test': {0: {'privkey': 'cTdUuchyYYJsdKNhmca9FM743sJKC5iEFcto8konMCntgosGz8Jt',\n",
       "   'account': <PrivateKeyTestnet: mugmrZoUcSsYMkeFetgKH5XNdCzr8CpuXE>},\n",
       "  1: {'privkey': 'cVRTLmZ2nSx1kcy2LiXWp88DTpY8vaFgNPePZNQne91uuVA93ZB2',\n",
       "   'account': <PrivateKeyTestnet: n2GNFSevhNYStSSk6RLzKHLewQ7GmEmyc9>},\n",
       "  2: {'privkey': 'cUb9ChtEuRgoLUAAVbdj39tWdNqS7qDCsPFEg8yWuQtxDzeyCuD9',\n",
       "   'account': <PrivateKeyTestnet: mhW9kkW2kKd7j7pseiV5jZ6brxtCtCMfLV>}}}"
      ]
     },
     "execution_count": 8,
     "metadata": {},
     "output_type": "execute_result"
    }
   ],
   "source": [
    "private_keys"
   ]
  },
  {
   "cell_type": "code",
   "execution_count": 9,
   "metadata": {},
   "outputs": [
    {
     "data": {
      "text/plain": [
       "HexBytes('0xaf2934fbb84fa7fdc899395b332a7b2196048f5362016da34208b88f2fbe2977')"
      ]
     },
     "execution_count": 9,
     "metadata": {},
     "output_type": "execute_result"
    }
   ],
   "source": [
    "result=send_tx(ETH,account1,account2.address,200000000000000)\n",
    "result"
   ]
  }
 ],
 "metadata": {
  "kernelspec": {
   "display_name": "Python 3",
   "language": "python",
   "name": "python3"
  },
  "language_info": {
   "codemirror_mode": {
    "name": "ipython",
    "version": 3
   },
   "file_extension": ".py",
   "mimetype": "text/x-python",
   "name": "python",
   "nbconvert_exporter": "python",
   "pygments_lexer": "ipython3",
   "version": "3.7.3"
  }
 },
 "nbformat": 4,
 "nbformat_minor": 4
}
